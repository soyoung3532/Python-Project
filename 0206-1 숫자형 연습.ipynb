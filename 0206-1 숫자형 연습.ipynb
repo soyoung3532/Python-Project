{
 "cells": [
  {
   "cell_type": "code",
   "execution_count": 1,
   "id": "1e42949f-ee2c-459b-b2d3-7dbc2647917e",
   "metadata": {},
   "outputs": [
    {
     "name": "stdout",
     "output_type": "stream",
     "text": [
      "8.14\n"
     ]
    }
   ],
   "source": [
    "a=3.14\n",
    "b=5\n",
    "print(a+b)"
   ]
  },
  {
   "cell_type": "code",
   "execution_count": 8,
   "id": "f2017cbd-b151-4d53-b4b1-651e1a84732f",
   "metadata": {},
   "outputs": [
    {
     "name": "stdout",
     "output_type": "stream",
     "text": [
      "120000000.0\n",
      "3.14e-07\n"
     ]
    }
   ],
   "source": [
    "#지수표현\n",
    "print(1.2e8)\n",
    "print(3.14e-7)"
   ]
  },
  {
   "cell_type": "code",
   "execution_count": 9,
   "id": "d06e7e23-6c8a-459c-a47d-2432bdb0bc1e",
   "metadata": {},
   "outputs": [
    {
     "name": "stdout",
     "output_type": "stream",
     "text": [
      "(4+2j)\n",
      "(2-3j)\n"
     ]
    }
   ],
   "source": [
    "#복소수\n",
    "a= 4+2j\n",
    "b= 2-3j\n",
    "print(a)\n",
    "print(b)"
   ]
  },
  {
   "cell_type": "code",
   "execution_count": 13,
   "id": "90943826-28e6-4a20-82d5-66c4ef559254",
   "metadata": {},
   "outputs": [
    {
     "name": "stdout",
     "output_type": "stream",
     "text": [
      "4.0\n",
      "2.0\n",
      "(6-1j)\n",
      "(2+5j)\n"
     ]
    }
   ],
   "source": [
    "#실수부분만\n",
    "print(a.real)\n",
    "#허수부분만\n",
    "print(a.imag)\n",
    "print(a+b)\n",
    "print(a-b)"
   ]
  },
  {
   "cell_type": "code",
   "execution_count": 20,
   "id": "1a0ef691-009c-42a6-a670-d284c30fbc3d",
   "metadata": {},
   "outputs": [
    {
     "name": "stdout",
     "output_type": "stream",
     "text": [
      "0.30000000000000004\n",
      "0.3\n"
     ]
    }
   ],
   "source": [
    "# 부동소수점 문제\n",
    "# decimal 라는 라이브러리로부터 Decimal 라는 함수를 가져와라.\n",
    "from decimal import Decimal\n",
    "\n",
    "print(0.1 + 0.2)\n",
    "\n",
    "a= Decimal(\"0.1\")\n",
    "b= Decimal(\"0.2\")\n",
    "print(a+b)"
   ]
  },
  {
   "cell_type": "code",
   "execution_count": 25,
   "id": "978f49a2-b647-4871-bf91-69600f6f1ecc",
   "metadata": {},
   "outputs": [
    {
     "name": "stdout",
     "output_type": "stream",
     "text": [
      "13/21\n",
      "13 21\n"
     ]
    }
   ],
   "source": [
    "# 분수 계산\n",
    "from fractions import Fraction\n",
    "\n",
    "a = Fraction(1,3)\n",
    "b = Fraction(2,7)\n",
    "c= a+b\n",
    "print(c)\n",
    "\n",
    "#분자만/분모만\n",
    "print(c.numerator,c.denominator)"
   ]
  },
  {
   "cell_type": "code",
   "execution_count": 27,
   "id": "76bbcad7-ada9-4592-9d36-997301cc1855",
   "metadata": {},
   "outputs": [
    {
     "name": "stdout",
     "output_type": "stream",
     "text": [
      "13\n",
      "7\n",
      "30\n",
      "3.3333333333333335\n",
      "1000\n",
      "3\n",
      "1\n"
     ]
    }
   ],
   "source": [
    "#연산자 활용\n",
    "a=10\n",
    "b=3\n",
    "\n",
    "print(a+b)\n",
    "print(a-b)\n",
    "print(a*b)\n",
    "print(a/b)\n",
    "\n",
    "print(a**b) #a의 b제곱\n",
    "print(a//b) #a를 b로 나누었을 때 몫\n",
    "print(a%b) #a를 b로 나누었을 때 나머지\n"
   ]
  },
  {
   "cell_type": "code",
   "execution_count": 31,
   "id": "32d968c9-5be6-4f49-a7c5-6f01b82fecc3",
   "metadata": {},
   "outputs": [
    {
     "name": "stdout",
     "output_type": "stream",
     "text": [
      "5\n",
      "3.14\n"
     ]
    },
    {
     "data": {
      "text/plain": [
       "12300"
      ]
     },
     "execution_count": 31,
     "metadata": {},
     "output_type": "execute_result"
    }
   ],
   "source": [
    "print(abs(-5))\n",
    "print(round(3.141592,2))\n",
    "round(12345,-2)"
   ]
  },
  {
   "cell_type": "code",
   "execution_count": 33,
   "id": "5ef351f1-8dd1-4422-a542-cc0097440dfc",
   "metadata": {},
   "outputs": [
    {
     "name": "stdout",
     "output_type": "stream",
     "text": [
      "15\n",
      "5\n",
      "1\n"
     ]
    }
   ],
   "source": [
    "print(sum([1,2,3,4,5]))\n",
    "print(max([1,2,3,4,5]))\n",
    "print(min([1,2,3,4,5]))"
   ]
  },
  {
   "cell_type": "code",
   "execution_count": null,
   "id": "8ea43c91-0ac4-46bb-a1ab-24e3efae5506",
   "metadata": {},
   "outputs": [],
   "source": []
  }
 ],
 "metadata": {
  "kernelspec": {
   "display_name": "Python 3 (ipykernel)",
   "language": "python",
   "name": "python3"
  },
  "language_info": {
   "codemirror_mode": {
    "name": "ipython",
    "version": 3
   },
   "file_extension": ".py",
   "mimetype": "text/x-python",
   "name": "python",
   "nbconvert_exporter": "python",
   "pygments_lexer": "ipython3",
   "version": "3.12.7"
  }
 },
 "nbformat": 4,
 "nbformat_minor": 5
}
