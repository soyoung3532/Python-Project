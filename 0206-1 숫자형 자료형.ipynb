{
 "cells": [
  {
   "cell_type": "markdown",
   "id": "24c8b4ff-3f4e-4151-b80f-246bc515ab50",
   "metadata": {},
   "source": [
    "# 파이썬 숫자형 자료형이란?\n",
    "파이썬에서 숫자를 다루기 위한 기본 자료형으로는 크게 다음과 같은 것들이 있습니다.\n",
    "\n",
    "* 정수 (int)\n",
    "* 실수 (float)\n",
    "* 복소수 (complex)\n",
    "* 그 외 모듈을 활용하는 Decimal, Fraction 등이 있습니다.\n",
    "\n",
    "파이썬의 정수와 실수는 다양한 범위를 큰 제약 없이(메모리가 허용하는 한) 다룰 수 있습니다. 또한, 복소수까지 내장 자료형으로 지원하기 때문에 과학, 공학 분야에서 유용하게 활용됩니다."
   ]
  },
  {
   "cell_type": "markdown",
   "id": "b210b485-1dbd-469b-9d52-8ee37a661c0a",
   "metadata": {},
   "source": [
    "## 1. 정수(int)\n",
    "정수형은 자연수, 0, 음수를 포함합니다."
   ]
  },
  {
   "cell_type": "code",
   "execution_count": 1,
   "id": "55a07dc5-9a45-4e9d-a402-2e0b2e96bf50",
   "metadata": {},
   "outputs": [
    {
     "name": "stdout",
     "output_type": "stream",
     "text": [
      "10 -5 0\n"
     ]
    }
   ],
   "source": [
    "# 양의 정수\n",
    "a = 10\n",
    "\n",
    "# 음의 정수\n",
    "b = -5\n",
    "\n",
    "# 0\n",
    "c = 0\n",
    "\n",
    "print(a, b, c)"
   ]
  },
  {
   "cell_type": "markdown",
   "id": "2a73a5cb-5f49-4895-88f6-f39d7ddd453f",
   "metadata": {},
   "source": [
    "### 진법 표현\n",
    "\n",
    "* 2진수: 0b 접두사를 사용\n",
    "* 8진수: 0o 접두사를 사용\n",
    "* 16진수: 0x 접두사를 사용"
   ]
  },
  {
   "cell_type": "code",
   "execution_count": 2,
   "id": "5a74e18a-ab46-4a55-b7cc-3ed0402f8dc6",
   "metadata": {},
   "outputs": [
    {
     "name": "stdout",
     "output_type": "stream",
     "text": [
      "10 10 10\n"
     ]
    }
   ],
   "source": [
    "bin_num = 0b1010   # 2진수 → 10진수 10\n",
    "oct_num = 0o12    # 8진수 → 10진수 10\n",
    "hex_num = 0xA     # 16진수 → 10진수 10\n",
    "\n",
    "print(bin_num, oct_num, hex_num)"
   ]
  },
  {
   "cell_type": "markdown",
   "id": "75b15989-54da-4191-bf0a-b1399ed00966",
   "metadata": {},
   "source": [
    "## 2. 실수(float)\n",
    "* 실수는 소수점이 포함된 숫자를 말합니다. (예: 3.14, -2.7 등)\n",
    "* 파이썬에서 float는 보통 64비트 ‘배정밀도 부동소수점’ 형태로 표현됩니다."
   ]
  },
  {
   "cell_type": "code",
   "execution_count": 3,
   "id": "60fc184a-4e85-4d25-846f-6cfef4005e0c",
   "metadata": {},
   "outputs": [
    {
     "name": "stdout",
     "output_type": "stream",
     "text": [
      "3.14 -2.7 1.0\n"
     ]
    }
   ],
   "source": [
    "x = 3.14\n",
    "y = -2.7\n",
    "z = 1.0\n",
    "\n",
    "print(x, y, z)"
   ]
  },
  {
   "cell_type": "markdown",
   "id": "cf47a784-4c65-4fbf-be91-14cf8205df8f",
   "metadata": {},
   "source": [
    "### 지수 표현\n",
    "* 큰 수나 작은 수를 지수 형태로 표현할 수 있습니다.\n",
    "* 예: 1.2e3 → 1.2 × 10³ = 1200"
   ]
  },
  {
   "cell_type": "code",
   "execution_count": 4,
   "id": "555b71e1-8b26-4409-b189-0f95682540e9",
   "metadata": {},
   "outputs": [
    {
     "name": "stdout",
     "output_type": "stream",
     "text": [
      "1200.0 -0.045\n"
     ]
    }
   ],
   "source": [
    "num1 = 1.2e3\n",
    "num2 = -4.5E-2\n",
    "\n",
    "print(num1, num2)"
   ]
  },
  {
   "cell_type": "markdown",
   "id": "f9394496-8336-4c69-9a4c-b93195f41aed",
   "metadata": {},
   "source": [
    "## 3. 복소수(complex)\n",
    "복소수는 실수부 + 허수부 j 형태로 표현합니다. 파이썬에서는 복소수를 내장 자료형으로 지원합니다."
   ]
  },
  {
   "cell_type": "code",
   "execution_count": 5,
   "id": "d76309d1-72b0-4413-8cfe-95463441dc3b",
   "metadata": {},
   "outputs": [
    {
     "name": "stdout",
     "output_type": "stream",
     "text": [
      "(3+4j)\n",
      "3.0\n",
      "4.0\n"
     ]
    }
   ],
   "source": [
    "complex_num = 3+4j\n",
    "print(complex_num)  \n",
    "# 결과: (3+4j)\n",
    "\n",
    "# 실수부, 허수부\n",
    "print(complex_num.real)  # 3.0\n",
    "print(complex_num.imag)  # 4.0"
   ]
  },
  {
   "cell_type": "code",
   "execution_count": 6,
   "id": "ece8272d-c582-4d20-b0e9-07dd7feeebdc",
   "metadata": {},
   "outputs": [
    {
     "name": "stdout",
     "output_type": "stream",
     "text": [
      "(3+5j)\n",
      "(-4+7j)\n"
     ]
    }
   ],
   "source": [
    "a = 1+2j\n",
    "b = 2+3j\n",
    "\n",
    "print(a + b)  # (3+5j)\n",
    "print(a * b)  # (1*2 - 2*3) + (1*3 + 2*2)j = (2 - 6) + (3 + 4)j = -4+7j"
   ]
  },
  {
   "cell_type": "markdown",
   "id": "a9b6b239-9e71-4792-9bbc-9f41edd24150",
   "metadata": {},
   "source": [
    "## 4. Decimal과 Fraction\n",
    "\n",
    "부동소수점 문제는 컴퓨터가 실수를 근사치로 표현하기 때문에 발생합니다. 컴퓨터는 실수를 2진법으로 표현합니다. 하지만 10진법에서 정확히 표현되는 숫자도 2진법에서는 무한소수가 될 수 있습니다. 예를 들어: 0.1 (10진수) = 0.000110011001100... (2진수, 무한 반복) 컴퓨터는 유한한 비트만 사용해 무한소수를 저장해야 하므로, 0.1을 정확히 표현하지 못하고 근사치로 저장합니다. 이로 인해 작은 오차가 누적됩니다.\n",
    "\n",
    "* Decimal (모듈: decimal): 정확한 십진법 계산이 필요할 때 사용합니다. (예: 돈 계산 등)"
   ]
  },
  {
   "cell_type": "code",
   "execution_count": 8,
   "id": "1d8751db-1b54-4263-8e3f-5273599d6430",
   "metadata": {},
   "outputs": [
    {
     "data": {
      "text/plain": [
       "0.30000000000000004"
      ]
     },
     "execution_count": 8,
     "metadata": {},
     "output_type": "execute_result"
    }
   ],
   "source": [
    "0.1 + 0.2"
   ]
  },
  {
   "cell_type": "code",
   "execution_count": 10,
   "id": "ccd309ce-0061-4494-92a1-faae340ba3bb",
   "metadata": {},
   "outputs": [
    {
     "name": "stdout",
     "output_type": "stream",
     "text": [
      "0.3\n"
     ]
    }
   ],
   "source": [
    "from decimal import Decimal\n",
    "\n",
    "a = Decimal('0.1')\n",
    "b = Decimal('0.2')\n",
    "c = a + b\n",
    "\n",
    "print(c)  # 0.3"
   ]
  },
  {
   "cell_type": "markdown",
   "id": "f02af9a7-2662-43da-978b-c6240ed90658",
   "metadata": {},
   "source": [
    "* Fraction (모듈: fractions): 분수 형태로 정확하게 표현해야 할 때 사용합니다."
   ]
  },
  {
   "cell_type": "code",
   "execution_count": 11,
   "id": "f697519c-e8c2-48d0-8eb1-392879ca3481",
   "metadata": {},
   "outputs": [
    {
     "name": "stdout",
     "output_type": "stream",
     "text": [
      "1\n",
      "1 1\n"
     ]
    }
   ],
   "source": [
    "from fractions import Fraction\n",
    "\n",
    "f1 = Fraction(1, 3)\n",
    "f2 = Fraction(2, 3)\n",
    "result = f1 + f2\n",
    "\n",
    "print(result)  # 1\n",
    "print(result.numerator, result.denominator)  # 1 1 (분자, 분모)"
   ]
  },
  {
   "cell_type": "markdown",
   "id": "aa6043ee-4fc3-494d-a97f-653a19ac2091",
   "metadata": {},
   "source": [
    "## 5. 숫자형 연산과 활용\n",
    "* ```+```, ```-```, ```*```, ```/```(실수 나눗셈), ```//```(정수 나눗셈), ```%```(나머지), ```**```(거듭제곱)"
   ]
  },
  {
   "cell_type": "code",
   "execution_count": 12,
   "id": "66921280-3942-4ebe-93e7-28f8460ae32e",
   "metadata": {},
   "outputs": [
    {
     "name": "stdout",
     "output_type": "stream",
     "text": [
      "13\n",
      "7\n",
      "30\n",
      "3.3333333333333335\n",
      "3\n",
      "1\n",
      "8\n"
     ]
    }
   ],
   "source": [
    "print(10 + 3)  # 13\n",
    "print(10 - 3)  # 7\n",
    "print(10 * 3)  # 30\n",
    "print(10 / 3)  # 3.3333...\n",
    "print(10 // 3) # 3\n",
    "print(10 % 3)  # 1\n",
    "print(2 ** 3)  # 8"
   ]
  },
  {
   "cell_type": "markdown",
   "id": "6d89e78b-2aba-4103-9e00-8297987db06a",
   "metadata": {},
   "source": [
    "* 거듭제곱(**) → 곱셈/나눗셈(*, /, //, %) → 덧셈/뺄셈(+, -) 순으로 계산됩니다."
   ]
  },
  {
   "cell_type": "code",
   "execution_count": 13,
   "id": "61cf7428-9497-4420-9f05-25c289492d38",
   "metadata": {},
   "outputs": [
    {
     "name": "stdout",
     "output_type": "stream",
     "text": [
      "14\n"
     ]
    }
   ],
   "source": [
    "result = 2 + 3 * 4\n",
    "print(result)  # 14  (3*4=12, 이후 2+12=14)"
   ]
  },
  {
   "cell_type": "markdown",
   "id": "51b3cc34-b347-4b00-b701-573a14c227b5",
   "metadata": {},
   "source": [
    "### 수학 함수\n",
    "* abs(x): 절댓값\n",
    "* round(x[, n]): 반올림 (n은 소수점 자리수)\n",
    "* pow(x, y): 거듭제곱(x^y)\n",
    "* divmod(x, y): 몫과 나머지 한 번에 구하기 → (몫, 나머지) 형태 반환"
   ]
  },
  {
   "cell_type": "code",
   "execution_count": 14,
   "id": "6c4ada06-05d1-4c67-83bc-83aa301f94e3",
   "metadata": {},
   "outputs": [
    {
     "name": "stdout",
     "output_type": "stream",
     "text": [
      "5\n",
      "3.14\n",
      "8\n",
      "(3, 1)\n"
     ]
    }
   ],
   "source": [
    "print(abs(-5))        # 5\n",
    "print(round(3.14159, 2))  # 3.14\n",
    "print(pow(2, 3))      # 8\n",
    "print(divmod(10, 3))  # (3, 1)"
   ]
  },
  {
   "cell_type": "markdown",
   "id": "7675101d-a538-4e61-84ec-237378889e09",
   "metadata": {},
   "source": [
    "* sum: 총합\n",
    "* max: 최대값\n",
    "* min: 최소값"
   ]
  },
  {
   "cell_type": "code",
   "execution_count": 4,
   "id": "70e49ab0-8db1-47db-a08e-684f571c7b73",
   "metadata": {},
   "outputs": [
    {
     "name": "stdout",
     "output_type": "stream",
     "text": [
      "15\n",
      "5\n",
      "1\n"
     ]
    }
   ],
   "source": [
    "print(sum([1,2,3,4,5]))\n",
    "print(max([1,2,3,4,5]))\n",
    "print(min([1,2,3,4,5]))"
   ]
  },
  {
   "cell_type": "markdown",
   "id": "6c354f49-8406-499a-af18-e09eb84dc71c",
   "metadata": {},
   "source": [
    "## 연습문제\n",
    "1. 정수 a = 5, b = -10, c = 0을 선언한 뒤 각각의 값과 자료형(type(a))을 함께 출력해보세요."
   ]
  },
  {
   "cell_type": "code",
   "execution_count": 34,
   "id": "9294306c-53be-495d-9fe0-03dc0524193b",
   "metadata": {},
   "outputs": [
    {
     "name": "stdout",
     "output_type": "stream",
     "text": [
      "5\n",
      "-10\n",
      "0\n",
      "<class 'int'>\n",
      "<class 'int'>\n",
      "<class 'int'>\n"
     ]
    }
   ],
   "source": [
    "a = 5\n",
    "b = -10\n",
    "c = 0\n",
    "print(a)\n",
    "print(b)\n",
    "print(c)\n",
    "print(type(a))\n",
    "print(type(b))\n",
    "print(type(c))"
   ]
  },
  {
   "cell_type": "markdown",
   "id": "18081931-ae37-4bdb-82e3-0af2fc90fe64",
   "metadata": {},
   "source": [
    "2. 2진수 0b1111(10진수로 15), 16진수 0xF(10진수로 15)를 각각 정수로 변환해서 출력해보세요."
   ]
  },
  {
   "cell_type": "code",
   "execution_count": 4,
   "id": "9f83e52d-e521-44e9-8e54-a9eb77757c4f",
   "metadata": {},
   "outputs": [
    {
     "name": "stdout",
     "output_type": "stream",
     "text": [
      "15\n",
      "15\n"
     ]
    }
   ],
   "source": [
    "print(0b1111)\n",
    "print(0xF)"
   ]
  },
  {
   "cell_type": "markdown",
   "id": "252eeaf8-4e66-4c29-b604-7aeca6085e1e",
   "metadata": {},
   "source": [
    "3. 실수 3.14, -2.7를 선언하고 두 값을 더한 값을 출력해보세요."
   ]
  },
  {
   "cell_type": "code",
   "execution_count": 35,
   "id": "82c6b30f-b9f3-4010-86dd-1f6166929add",
   "metadata": {},
   "outputs": [
    {
     "name": "stdout",
     "output_type": "stream",
     "text": [
      "0.43999999999999995\n",
      "0.44\n"
     ]
    }
   ],
   "source": [
    "a = 3.14\n",
    "b = -2.7\n",
    "print(a+b)\n",
    "\n",
    "from decimal import Decimal\n",
    "\n",
    "a1 = Decimal('3.14')\n",
    "b1 = Decimal('-2.7')\n",
    "\n",
    "print(a1+b1)"
   ]
  },
  {
   "cell_type": "markdown",
   "id": "bd9cf62e-c210-467a-90f3-9d20c9b20825",
   "metadata": {},
   "source": [
    "4. 지수 표현을 사용해 num1 = 1.2e2(120.0), num2 = 3E-1(0.3)를 선언하고 두 값을 곱한 값을 출력해보세요."
   ]
  },
  {
   "cell_type": "code",
   "execution_count": 10,
   "id": "82d98e39-8a71-420e-9b08-c5c577f5f764",
   "metadata": {},
   "outputs": [
    {
     "name": "stdout",
     "output_type": "stream",
     "text": [
      "36.0\n"
     ]
    }
   ],
   "source": [
    "num1 = 1.2e2\n",
    "num2 = 3E-1\n",
    "print(num1 * num2)"
   ]
  },
  {
   "cell_type": "markdown",
   "id": "5539152b-49af-4891-8317-930d56c7b99e",
   "metadata": {},
   "source": [
    "5. 복소수 3+4j를 선언하고, 실수부와 허수부를 print()로 각각 따로 출력해보세요."
   ]
  },
  {
   "cell_type": "code",
   "execution_count": 33,
   "id": "a67e461a-1e72-4a20-90bf-2947593373dd",
   "metadata": {},
   "outputs": [
    {
     "name": "stdout",
     "output_type": "stream",
     "text": [
      "3.0\n",
      "4.0\n"
     ]
    }
   ],
   "source": [
    "a=3+4j\n",
    "print(a.real)\n",
    "print(a.imag)"
   ]
  },
  {
   "cell_type": "markdown",
   "id": "181d9324-7fa1-4ca1-bd63-4aea9e15bd05",
   "metadata": {},
   "source": [
    "6. abs(), round(), pow() 함수를 활용하여 임의의 숫자에 대해 간단한 계산 예시를 작성해보세요.  \n",
    "(예: round(3.14159, 2), pow(2, 3) 등)"
   ]
  },
  {
   "cell_type": "code",
   "execution_count": 36,
   "id": "f71cbafb-49c1-4f1f-91d0-c8fcaa1df150",
   "metadata": {},
   "outputs": [
    {
     "name": "stdout",
     "output_type": "stream",
     "text": [
      "10\n",
      "1.23\n",
      "16\n"
     ]
    }
   ],
   "source": [
    "print(abs(-10))\n",
    "print(round(1.23456,2))\n",
    "print(pow(2,4))"
   ]
  },
  {
   "cell_type": "markdown",
   "id": "5a0e885a-ebe9-4b11-88c4-ee377fabed44",
   "metadata": {},
   "source": [
    "7. divmod(x, y) 함수를 사용해, (x=17, y=4)에 대한 몫과 나머지를 한 번에 구하고 결과를 출력해보세요."
   ]
  },
  {
   "cell_type": "code",
   "execution_count": 14,
   "id": "bc914570-2997-41f9-89cf-dc0dfcdd516c",
   "metadata": {},
   "outputs": [
    {
     "data": {
      "text/plain": [
       "(4, 1)"
      ]
     },
     "execution_count": 14,
     "metadata": {},
     "output_type": "execute_result"
    }
   ],
   "source": [
    "x=17\n",
    "y=4\n",
    "divmod(x,y)"
   ]
  },
  {
   "cell_type": "markdown",
   "id": "82bb286c-4c96-48e2-a912-d97f20bcf5c8",
   "metadata": {},
   "source": [
    "8. Decimal 모듈을 사용해 부동소수점의 오차를 해결하는 예시 코드를 작성하고, 0.3 + 0.6와 Decimal('0.3') + Decimal('0.6')의 차이를 출력하세요."
   ]
  },
  {
   "cell_type": "code",
   "execution_count": 16,
   "id": "56de4f36-4bc5-46bf-a835-aee6f5524a6d",
   "metadata": {},
   "outputs": [
    {
     "name": "stdout",
     "output_type": "stream",
     "text": [
      "0.8999999999999999\n",
      "0.9\n"
     ]
    }
   ],
   "source": [
    "a=0.3\n",
    "b=0.6\n",
    "print(a+b)\n",
    "\n",
    "from decimal import Decimal\n",
    "\n",
    "a = Decimal('0.3')\n",
    "b = Decimal('0.6')\n",
    "print(a+b)\n"
   ]
  },
  {
   "cell_type": "markdown",
   "id": "40116a89-1803-44ab-87f9-c3a511358bec",
   "metadata": {},
   "source": [
    "9. Fraction 모듈을 사용해 1/7과 2/3을 더한 결과를 출력하고, 분자와 분모 값을 출력하세요."
   ]
  },
  {
   "cell_type": "code",
   "execution_count": 20,
   "id": "099402c0-cd50-4e7c-a224-b8fab3191fae",
   "metadata": {},
   "outputs": [
    {
     "name": "stdout",
     "output_type": "stream",
     "text": [
      "17/21\n",
      "17 21\n"
     ]
    }
   ],
   "source": [
    "from fractions import Fraction\n",
    "\n",
    "a = Fraction(1,7)\n",
    "b = Fraction(2,3)\n",
    "c= a+b\n",
    "print(c)\n",
    "\n",
    "print(c.numerator,c.denominator)"
   ]
  },
  {
   "cell_type": "markdown",
   "id": "2d6f2fbe-a3ca-4cde-bebf-5c854f128ce7",
   "metadata": {},
   "source": [
    "10. ```/```와 ```//```의 차이를 직접 보여줄 수 있는 예시 코드를 작성하고, 결과를 비교 설명하세요."
   ]
  },
  {
   "cell_type": "code",
   "execution_count": 30,
   "id": "5568ef44-8028-4b4e-b477-9178f1002cf7",
   "metadata": {},
   "outputs": [
    {
     "name": "stdout",
     "output_type": "stream",
     "text": [
      "3.3333333333333335\n",
      "3\n"
     ]
    }
   ],
   "source": [
    "print(10/3)\n",
    "print(10//3)\n",
    "\n",
    "# /는 10을 3으로 나눈 값, //는 10을 3으로 나눈 몫 "
   ]
  },
  {
   "cell_type": "markdown",
   "id": "9f7c7ac6-1030-44bf-a489-8eaa49468efc",
   "metadata": {},
   "source": [
    "11. Decimal 활용: 금융 거래에서 금액 0.33씩 3번 더하는 계산을 수행하고, float와 Decimal을 각각 사용했을 때의 차이를 출력해보세요.  \n",
    "(float로 계산 시 오차 발생 가능)"
   ]
  },
  {
   "cell_type": "code",
   "execution_count": 29,
   "id": "ecdba583-c738-4e0e-8f24-ff69cfcaf056",
   "metadata": {},
   "outputs": [
    {
     "name": "stdout",
     "output_type": "stream",
     "text": [
      "0.99\n",
      "0.99\n"
     ]
    }
   ],
   "source": [
    "a = 0.33\n",
    "print(a+a+a)\n",
    "\n",
    "b = Decimal(\"0.33\")\n",
    "print(b+b+b)"
   ]
  },
  {
   "cell_type": "markdown",
   "id": "4e80ccc7-b1cd-42c1-8f82-6458b5b3eabd",
   "metadata": {},
   "source": [
    "12. Fraction 활용: 1/2, 2/3, 3/4를 모두 곱한 결과를 Fraction으로 표현해보세요."
   ]
  },
  {
   "cell_type": "code",
   "execution_count": 21,
   "id": "5ed6fc8e-60d4-46ad-bbc1-d604f2673188",
   "metadata": {},
   "outputs": [
    {
     "name": "stdout",
     "output_type": "stream",
     "text": [
      "1/4\n"
     ]
    }
   ],
   "source": [
    "a = Fraction(1,2)\n",
    "b = Fraction(2,3)\n",
    "c = Fraction(3,4)\n",
    "\n",
    "print(a*b*c)"
   ]
  }
 ],
 "metadata": {
  "kernelspec": {
   "display_name": "Python 3 (ipykernel)",
   "language": "python",
   "name": "python3"
  },
  "language_info": {
   "codemirror_mode": {
    "name": "ipython",
    "version": 3
   },
   "file_extension": ".py",
   "mimetype": "text/x-python",
   "name": "python",
   "nbconvert_exporter": "python",
   "pygments_lexer": "ipython3",
   "version": "3.12.7"
  }
 },
 "nbformat": 4,
 "nbformat_minor": 5
}
