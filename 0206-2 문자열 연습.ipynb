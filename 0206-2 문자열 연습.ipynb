{
 "cells": [
  {
   "cell_type": "code",
   "execution_count": 13,
   "id": "ded58cd7-b947-435b-91f6-4c2f3c4cd362",
   "metadata": {},
   "outputs": [
    {
     "name": "stdout",
     "output_type": "stream",
     "text": [
      "python 'is' too \tfun\n",
      "python 'is' \n",
      "too fun\n",
      "Python 'is\" too fun\n"
     ]
    }
   ],
   "source": [
    "# 문자열 자료형\n",
    "a = 'python \\'is\\' too \\tfun'\n",
    "b = \"python 'is' \\ntoo fun\"\n",
    "\n",
    "c = \"\"\"Python 'is\" too fun\"\"\" #\"\"\"3개 붙이면 무조건 문자열\n",
    "\n",
    "print(a)\n",
    "print(b)\n",
    "print(c)"
   ]
  },
  {
   "cell_type": "code",
   "execution_count": 20,
   "id": "defec694-e9c4-4c71-bff9-a139104b060f",
   "metadata": {},
   "outputs": [
    {
     "data": {
      "text/plain": [
       "'n'"
      ]
     },
     "execution_count": 20,
     "metadata": {},
     "output_type": "execute_result"
    }
   ],
   "source": [
    "a = 'python is too fun'\n",
    "\n",
    "# a의 0번째에 접근\n",
    "# 하나씩 접근 : 인덱싱\n",
    "a[0]\n",
    "a[3]\n",
    "a[-1] #뒤에서부터"
   ]
  },
  {
   "cell_type": "code",
   "execution_count": 30,
   "id": "4dc7baab-b7c0-4829-b9b5-ab5c18a96ecc",
   "metadata": {},
   "outputs": [
    {
     "data": {
      "text/plain": [
       "'thon i'"
      ]
     },
     "execution_count": 30,
     "metadata": {},
     "output_type": "execute_result"
    }
   ],
   "source": [
    "#여러개 접근 : 슬라이싱\n",
    "a[2:8] # 2번째부터 시작해서 8번째 전까지"
   ]
  },
  {
   "cell_type": "code",
   "execution_count": 29,
   "id": "0b8a9f2f-add1-4cb7-86ea-9d4cfe7481e8",
   "metadata": {},
   "outputs": [
    {
     "data": {
      "text/plain": [
       "'to s'"
      ]
     },
     "execution_count": 29,
     "metadata": {},
     "output_type": "execute_result"
    }
   ],
   "source": [
    "a[:8]\n",
    "a[2:] \n",
    "a[2:10:2] #2번째부터 10번째전까지 2씩 증가"
   ]
  },
  {
   "cell_type": "code",
   "execution_count": 31,
   "id": "29325b73-365c-4a73-acbc-412cc01462cd",
   "metadata": {},
   "outputs": [
    {
     "data": {
      "text/plain": [
       "'pto stofn'"
      ]
     },
     "execution_count": 31,
     "metadata": {},
     "output_type": "execute_result"
    }
   ],
   "source": [
    "a[::2] #0 2 4 6 8 "
   ]
  },
  {
   "cell_type": "code",
   "execution_count": 32,
   "id": "4346152d-ce15-4b8b-b738-3ed33fb11420",
   "metadata": {},
   "outputs": [
    {
     "data": {
      "text/plain": [
       "'nuf oot si nohtyp'"
      ]
     },
     "execution_count": 32,
     "metadata": {},
     "output_type": "execute_result"
    }
   ],
   "source": [
    "a[::-1] # 데이터를 한번에 뒤집을 때"
   ]
  },
  {
   "cell_type": "code",
   "execution_count": 40,
   "id": "3529ad00-f3ea-45d2-b3b4-2670e25a3508",
   "metadata": {},
   "outputs": [
    {
     "data": {
      "text/plain": [
       "'python is too fun!'"
      ]
     },
     "execution_count": 40,
     "metadata": {},
     "output_type": "execute_result"
    }
   ],
   "source": [
    "# 문자열 연산\n",
    "a = \"python\"\n",
    "b = \" is too fun!\"\n",
    "a+b\n",
    "#a-b 뺄셈 불가능"
   ]
  },
  {
   "cell_type": "code",
   "execution_count": 35,
   "id": "769a842d-aee1-48ea-bf9a-2b3dd2cf5657",
   "metadata": {},
   "outputs": [
    {
     "data": {
      "text/plain": [
       "'pythonpythonpython'"
      ]
     },
     "execution_count": 35,
     "metadata": {},
     "output_type": "execute_result"
    }
   ],
   "source": [
    "a*3"
   ]
  },
  {
   "cell_type": "code",
   "execution_count": 41,
   "id": "9bbecc32-b6ed-4f67-ae33-a93d4644b48a",
   "metadata": {},
   "outputs": [
    {
     "name": "stdout",
     "output_type": "stream",
     "text": [
      "python is too fun!\n"
     ]
    }
   ],
   "source": [
    "len(a)\n",
    "a=a+b\n",
    "print(a)"
   ]
  },
  {
   "cell_type": "code",
   "execution_count": 43,
   "id": "268ed50e-709c-4cd4-9c59-d0c12509bd84",
   "metadata": {},
   "outputs": [
    {
     "name": "stdout",
     "output_type": "stream",
     "text": [
      "PYTHON IS TOO FUN!\n"
     ]
    }
   ],
   "source": [
    "# 문자열 전용 함수\n",
    "# print(),max(),min()... 내장함수\n",
    "\n",
    "print(a.upper())"
   ]
  },
  {
   "cell_type": "code",
   "execution_count": 44,
   "id": "d6ad6746-8a1d-4773-9e89-7eae09322ff6",
   "metadata": {},
   "outputs": [
    {
     "name": "stdout",
     "output_type": "stream",
     "text": [
      "python is too fun!\n"
     ]
    }
   ],
   "source": [
    "print(a.lower())"
   ]
  },
  {
   "cell_type": "code",
   "execution_count": 49,
   "id": "7506a777-8723-45ae-be8c-54e9e940b5cb",
   "metadata": {},
   "outputs": [
    {
     "name": "stdout",
     "output_type": "stream",
     "text": [
      "Python is too fun!\n",
      "Python Is Too Fun!\n",
      "PYTHON IS TOO FUN!\n"
     ]
    }
   ],
   "source": [
    "print(a.capitalize())\n",
    "print(a.title())\n",
    "print(a.swapcase())"
   ]
  },
  {
   "cell_type": "code",
   "execution_count": 55,
   "id": "d87c216e-8f40-4c30-b320-30ce8a6fdd06",
   "metadata": {},
   "outputs": [
    {
     "name": "stdout",
     "output_type": "stream",
     "text": [
      "python        \n",
      "        python\n",
      "python\n"
     ]
    }
   ],
   "source": [
    "a = \"        python        \"\n",
    "print(a.lstrip()) #왼쪽 공백(\\t도) 제거\n",
    "print(a.rstrip()) #오른쪽 공백 제거\n",
    "print(a.strip()) #양쪽 공백 제거"
   ]
  },
  {
   "cell_type": "code",
   "execution_count": 60,
   "id": "ab4e19fe-3b87-43cd-9f89-da4b987d68f6",
   "metadata": {},
   "outputs": [
    {
     "name": "stdout",
     "output_type": "stream",
     "text": [
      "python+++++++++\n",
      "++++++++python\n",
      "python\n"
     ]
    }
   ],
   "source": [
    "a = \"++++++++python+++++++++\"\n",
    "print(a.lstrip('+')) \n",
    "print(a.rstrip('+'))\n",
    "print(a.strip('+'))"
   ]
  },
  {
   "cell_type": "code",
   "execution_count": 66,
   "id": "4fc4aa6c-af0a-4e13-83ea-67bfe6fdd726",
   "metadata": {},
   "outputs": [
    {
     "name": "stdout",
     "output_type": "stream",
     "text": [
      "['python', 'is', 'too', 'fun!']\n",
      "['python', 'is', 'too', 'fun!']\n"
     ]
    }
   ],
   "source": [
    "a = \"python is too fun!\"\n",
    "print(a.split()) #빈도분석\n",
    "a = \"python,is,too,fun!\"\n",
    "print(a.split(','))"
   ]
  },
  {
   "cell_type": "code",
   "execution_count": 64,
   "id": "884bd8c2-09a7-44dc-a83c-b7fbbf0159fa",
   "metadata": {},
   "outputs": [
    {
     "data": {
      "text/plain": [
       "'a -> b -> c -> d -> e'"
      ]
     },
     "execution_count": 64,
     "metadata": {},
     "output_type": "execute_result"
    }
   ],
   "source": [
    "\" -> \".join(\"abcde\")"
   ]
  },
  {
   "cell_type": "code",
   "execution_count": 68,
   "id": "68d3e8cf-e814-415a-93d1-8517183ba8ec",
   "metadata": {},
   "outputs": [
    {
     "data": {
      "text/plain": [
       "'python -> is -> too -> fun!'"
      ]
     },
     "execution_count": 68,
     "metadata": {},
     "output_type": "execute_result"
    }
   ],
   "source": [
    "\" -> \".join(b)"
   ]
  },
  {
   "cell_type": "code",
   "execution_count": 70,
   "id": "e1fd925d-0320-40e7-bce5-7baeb48bb930",
   "metadata": {},
   "outputs": [
    {
     "data": {
      "text/plain": [
       "'java is too fun!'"
      ]
     },
     "execution_count": 70,
     "metadata": {},
     "output_type": "execute_result"
    }
   ],
   "source": [
    "a=\"python is too fun!\"\n",
    "a=a.replace(\"python\",\"java\")\n",
    "a"
   ]
  },
  {
   "cell_type": "code",
   "execution_count": 73,
   "id": "460d31b6-5d4c-4426-a70c-0384bc73cdd0",
   "metadata": {},
   "outputs": [
    {
     "data": {
      "text/plain": [
       "'나의 이름은 홍길동이고, 40.12살입니다.'"
      ]
     },
     "execution_count": 73,
     "metadata": {},
     "output_type": "execute_result"
    }
   ],
   "source": [
    "name = \"홍길동\"\n",
    "age = 40.123123123123\n",
    "\n",
    "f\"나의 이름은 {name}이고, {age:.2f}살입니다.\""
   ]
  },
  {
   "cell_type": "code",
   "execution_count": 78,
   "id": "6901f3d2-2478-475e-8091-5d7de383edb3",
   "metadata": {},
   "outputs": [
    {
     "name": "stdout",
     "output_type": "stream",
     "text": [
      "False\n",
      "True\n",
      "True\n",
      "True\n"
     ]
    }
   ],
   "source": [
    "print(\"hello123\".isalpha()) #알파벳으로 구성되어 있는지\n",
    "print(\"123\".isdigit())\n",
    "print(\"hello123\".isalnum())\n",
    "print(\"HELLO\".isupper())"
   ]
  },
  {
   "cell_type": "code",
   "execution_count": null,
   "id": "2b719ecd-8832-427a-b795-c5ea9f9d531e",
   "metadata": {},
   "outputs": [],
   "source": []
  }
 ],
 "metadata": {
  "kernelspec": {
   "display_name": "Python 3 (ipykernel)",
   "language": "python",
   "name": "python3"
  },
  "language_info": {
   "codemirror_mode": {
    "name": "ipython",
    "version": 3
   },
   "file_extension": ".py",
   "mimetype": "text/x-python",
   "name": "python",
   "nbconvert_exporter": "python",
   "pygments_lexer": "ipython3",
   "version": "3.12.7"
  }
 },
 "nbformat": 4,
 "nbformat_minor": 5
}
