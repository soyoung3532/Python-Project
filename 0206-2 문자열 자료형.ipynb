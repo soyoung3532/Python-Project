{
 "cells": [
  {
   "cell_type": "markdown",
   "id": "bb51733d-8d38-4e98-8c36-74d0c860011f",
   "metadata": {},
   "source": [
    "# 문자열 자료형이란?\n",
    "* 문자열(String)은 문자들의 나열(sequence of characters)을 말합니다.\n",
    "* 파이썬에서 문자열은 작은따옴표('...'), 큰따옴표(\"...\"), 삼중따옴표('''...''', \"\"\"...\"\"\") 등을 사용해 표현합니다.\n",
    "* 파이썬은 문자열을 immutable(불변)한 자료형으로 취급합니다. 즉, 한 번 생성된 문자열 객체는 변경할 수 없고, 변경하려면 새로운 문자열을 만들어야 합니다."
   ]
  },
  {
   "cell_type": "markdown",
   "id": "8a5d91f3-d987-49c1-bb8d-97060fa31c10",
   "metadata": {},
   "source": [
    "## 1. 문자열 생성과 기본 사용\n",
    "* 문자열 생성"
   ]
  },
  {
   "cell_type": "code",
   "execution_count": 2,
   "id": "e82d0311-5f4a-4215-86ba-5eaa799377f1",
   "metadata": {},
   "outputs": [
    {
     "name": "stdout",
     "output_type": "stream",
     "text": [
      "Hello World!\n",
      "Hello Python!\n",
      "여러 줄에 걸친\n",
      "문자열을 작성할 수 있습니다.\n"
     ]
    }
   ],
   "source": [
    "# 1. 작은따옴표\n",
    "my_str = 'Hello World!'\n",
    "\n",
    "# 2. 큰따옴표\n",
    "my_str2 = \"Hello Python!\"\n",
    "\n",
    "# 3. 삼중따옴표\n",
    "my_str3 = \"\"\"여러 줄에 걸친\n",
    "문자열을 작성할 수 있습니다.\"\"\"\n",
    "\n",
    "print(my_str, my_str2, my_str3, sep='\\n')"
   ]
  },
  {
   "cell_type": "markdown",
   "id": "2e4445ff-9a84-41a4-87dc-1bdae12f6f0f",
   "metadata": {},
   "source": [
    "* 문자열에 따옴표를 포함하고 싶을 때 (문자열 안에 작은따옴표를 넣어야 한다면 큰따옴표로 감싸거나, 이스케이프 문자(```\\```)를 사용합니다.)"
   ]
  },
  {
   "cell_type": "code",
   "execution_count": 3,
   "id": "cf6fdf34-c017-4c14-ac58-a9ff8dc84478",
   "metadata": {},
   "outputs": [
    {
     "name": "stdout",
     "output_type": "stream",
     "text": [
      "그는 '안녕하세요'라고 말했다.\n",
      "그는 '안녕하세요'라고 말했다.\n"
     ]
    }
   ],
   "source": [
    "# 큰따옴표로 감싸기\n",
    "sentence = \"그는 '안녕하세요'라고 말했다.\"\n",
    "\n",
    "# 이스케이프 문자 사용\n",
    "sentence2 = '그는 \\'안녕하세요\\'라고 말했다.'\n",
    "print(sentence)\n",
    "print(sentence2)"
   ]
  },
  {
   "cell_type": "markdown",
   "id": "f6d16b27-1ccd-41e9-96ae-d9d9e10def17",
   "metadata": {},
   "source": [
    "## 2. 문자열 인덱싱(Indexing)과 슬라이싱(Slicing)\n",
    "문자열도 시퀀스 자료형이므로, 인덱스(순서)를 통해 접근할 수 있습니다. (0부터 시작)\n",
    "\n",
    "* 인덱싱"
   ]
  },
  {
   "cell_type": "code",
   "execution_count": 4,
   "id": "ab315313-9c6a-4d61-98fd-d10d33676736",
   "metadata": {},
   "outputs": [
    {
     "name": "stdout",
     "output_type": "stream",
     "text": [
      "P\n",
      "t\n",
      "n\n"
     ]
    }
   ],
   "source": [
    "text = \"Python\"\n",
    "print(text[0])   # 'P'\n",
    "print(text[2])   # 't'\n",
    "print(text[-1])  # 'n'  (음수 인덱스는 뒤에서부터)"
   ]
  },
  {
   "cell_type": "markdown",
   "id": "bd23a24e-fc07-4b35-b7a0-0cb4bce00ca3",
   "metadata": {},
   "source": [
    "* 슬라이싱 ([start:end:step] 형태로 원하는 부분만 잘라낼 수 있습니다.)"
   ]
  },
  {
   "cell_type": "code",
   "execution_count": 5,
   "id": "db003cb2-7663-4353-91b9-d3b87da7b014",
   "metadata": {},
   "outputs": [
    {
     "name": "stdout",
     "output_type": "stream",
     "text": [
      "Py\n",
      "thon\n",
      "Pyth\n",
      "Pto\n",
      "nohtyP\n"
     ]
    }
   ],
   "source": [
    "text = \"Python\"\n",
    "print(text[0:2])   # 'Py'  (0번 인덱스부터 2 전까지)\n",
    "print(text[2:])    # 'thon' (2번 인덱스부터 끝까지)\n",
    "print(text[:4])    # 'Pyth' (처음부터 4 전까지)\n",
    "print(text[::2])   # 'Pto'  (처음부터 끝까지 2칸씩 건너뛰며)\n",
    "print(text[::-1])  # 'nohtyP' (문자열 뒤집기)"
   ]
  },
  {
   "cell_type": "markdown",
   "id": "b2378cea-599f-49d4-8d1f-561c19bb6401",
   "metadata": {},
   "source": [
    "## 3. 문자열 연산\n",
    "* 덧셈(+): 두 문자열을 연결(concatenate) 합니다."
   ]
  },
  {
   "cell_type": "code",
   "execution_count": 6,
   "id": "2d03cfd2-afd0-4ef8-a391-9eb0629c3d2f",
   "metadata": {},
   "outputs": [
    {
     "name": "stdout",
     "output_type": "stream",
     "text": [
      "Hello World\n"
     ]
    }
   ],
   "source": [
    "str_a = \"Hello\"\n",
    "str_b = \"World\"\n",
    "result = str_a + \" \" + str_b\n",
    "print(result)  # \"Hello World\""
   ]
  },
  {
   "cell_type": "markdown",
   "id": "c298c59e-4fd3-49e8-9e73-468fd358b2c0",
   "metadata": {},
   "source": [
    "* 곱셈(*): 문자열을 주어진 횟수만큼 반복 합니다."
   ]
  },
  {
   "cell_type": "code",
   "execution_count": 7,
   "id": "42caef64-f9a2-4da1-b631-cbf5ef99bb8d",
   "metadata": {},
   "outputs": [
    {
     "name": "stdout",
     "output_type": "stream",
     "text": [
      "HiHiHi\n"
     ]
    }
   ],
   "source": [
    "str_a = \"Hi\"\n",
    "print(str_a * 3)  # \"HiHiHi\""
   ]
  },
  {
   "cell_type": "markdown",
   "id": "1b6138bc-4278-4b44-ac5a-9ca4bf7330ea",
   "metadata": {},
   "source": [
    "* 길이 측정(len()): 문자열의 길이(문자 개수)를 반환합니다."
   ]
  },
  {
   "cell_type": "code",
   "execution_count": 8,
   "id": "f964ed7c-bc1a-47f7-a543-b5f5efdd4d2c",
   "metadata": {},
   "outputs": [
    {
     "name": "stdout",
     "output_type": "stream",
     "text": [
      "6\n"
     ]
    }
   ],
   "source": [
    "text = \"Python\"\n",
    "print(len(text))  # 6"
   ]
  },
  {
   "cell_type": "markdown",
   "id": "0b00d180-3e70-4e07-a527-3f48a1cd630b",
   "metadata": {},
   "source": [
    "## 4. 문자열 주요 메서드\n",
    "문자열은 변경 불가능하지만, 문자열과 관련된 다양한 메서드를 제공합니다. 주로 새로운 문자열을 생성하여 반환하는 형태입니다.\n",
    "\n",
    "### 대소문자 변환\n",
    "* upper(), lower(), capitalize(), title()"
   ]
  },
  {
   "cell_type": "code",
   "execution_count": 1,
   "id": "9e68e12a-6d28-4484-960b-06bc49f257a8",
   "metadata": {},
   "outputs": [
    {
     "name": "stdout",
     "output_type": "stream",
     "text": [
      "PYTHON\n",
      "python\n",
      "Python\n",
      "Python\n",
      "PyThOn\n"
     ]
    }
   ],
   "source": [
    "text = \"pYtHoN\"\n",
    "print(text.upper())      # \"PYTHON\"\n",
    "print(text.lower())      # \"python\"\n",
    "print(text.capitalize()) # \"Python\" (문장 첫 글자만 대문자)\n",
    "print(text.title())      # \"Python\" (각 단어의 첫 글자 대문자)\n",
    "print(text.swapcase())"
   ]
  },
  {
   "cell_type": "markdown",
   "id": "6b4c919e-2017-46ab-b5ed-298064a4c1a0",
   "metadata": {},
   "source": [
    "### 공백 및 특정 문자 제거\n",
    "* strip(), lstrip(), rstrip()"
   ]
  },
  {
   "cell_type": "code",
   "execution_count": 10,
   "id": "85a37c71-f463-469c-afa0-248a0460fdee",
   "metadata": {},
   "outputs": [
    {
     "name": "stdout",
     "output_type": "stream",
     "text": [
      "Hello World!\n",
      "Hello World!   \n",
      "   Hello World!\n"
     ]
    }
   ],
   "source": [
    "txt = \"   Hello World!   \"\n",
    "print(txt.strip())   # \"Hello World!\"\n",
    "print(txt.lstrip())  # \"Hello World!   \"\n",
    "print(txt.rstrip())  # \"   Hello World!\""
   ]
  },
  {
   "cell_type": "markdown",
   "id": "2c829529-ff63-44a8-8b30-86a982c821f7",
   "metadata": {},
   "source": [
    "### 문자열 분리 및 결합\n",
    "* split(), join()"
   ]
  },
  {
   "cell_type": "code",
   "execution_count": 11,
   "id": "94e87994-8bf4-4526-a919-6cc178406861",
   "metadata": {},
   "outputs": [
    {
     "name": "stdout",
     "output_type": "stream",
     "text": [
      "['apple', 'banana', 'orange']\n",
      "apple-banana-orange\n"
     ]
    }
   ],
   "source": [
    "# split: 문자열 -> 리스트\n",
    "fruit_str = \"apple,banana,orange\"\n",
    "fruits = fruit_str.split(\",\")\n",
    "print(fruits)  # ['apple', 'banana', 'orange']\n",
    "\n",
    "# join: 리스트 -> 문자열\n",
    "joined_str = \"-\".join(fruits)\n",
    "print(joined_str)  # \"apple-banana-orange\""
   ]
  },
  {
   "cell_type": "markdown",
   "id": "8959f940-bd2c-4d32-b1a1-d0beebd63b73",
   "metadata": {},
   "source": [
    "### 문자열 찾기\n",
    "* find(), index(), count()"
   ]
  },
  {
   "cell_type": "code",
   "execution_count": 12,
   "id": "e5499175-0048-4925-9967-e420680cdd69",
   "metadata": {},
   "outputs": [
    {
     "name": "stdout",
     "output_type": "stream",
     "text": [
      "3\n",
      "-1\n",
      "3\n",
      "3\n"
     ]
    }
   ],
   "source": [
    "text = \"Hello World\"\n",
    "print(text.find(\"lo\"))   # 3   (\"lo\"가 시작되는 인덱스)\n",
    "print(text.find(\"zzz\"))  # -1  (존재하지 않으면 -1)\n",
    "\n",
    "print(text.index(\"lo\"))  # 3   (존재하지 않으면 에러 발생)\n",
    "# print(text.index(\"zzz\")) -> ValueError 발생\n",
    "\n",
    "print(text.count(\"l\"))   # 3   (문자 'l' 등장 횟수)"
   ]
  },
  {
   "cell_type": "markdown",
   "id": "0c5b0509-9aff-48c6-90aa-19f206ff54d4",
   "metadata": {},
   "source": [
    "### 문자열 치환\n",
    "* replace(old, new)"
   ]
  },
  {
   "cell_type": "code",
   "execution_count": 13,
   "id": "6116c900-a6cb-43ce-bfdb-a441037ce9c1",
   "metadata": {},
   "outputs": [
    {
     "name": "stdout",
     "output_type": "stream",
     "text": [
      "Hello Python\n"
     ]
    }
   ],
   "source": [
    "text = \"Hello World\"\n",
    "new_text = text.replace(\"World\", \"Python\")\n",
    "print(new_text)  # \"Hello Python\""
   ]
  },
  {
   "cell_type": "markdown",
   "id": "39b6352b-51e2-4b9a-aacb-20b9a159bd8c",
   "metadata": {},
   "source": [
    "## 5. 포매팅(Formatting)과 f-string\n",
    "* 옛날 방식 포매팅(%)"
   ]
  },
  {
   "cell_type": "code",
   "execution_count": 14,
   "id": "8258fe1a-1b93-4064-8900-5096fe6c9112",
   "metadata": {},
   "outputs": [
    {
     "name": "stdout",
     "output_type": "stream",
     "text": [
      "My name is Alice. I am 25 years old.\n"
     ]
    }
   ],
   "source": [
    "name = \"Alice\"\n",
    "age = 25\n",
    "sentence = \"My name is %s. I am %d years old.\" % (name, age)\n",
    "print(sentence)"
   ]
  },
  {
   "cell_type": "markdown",
   "id": "aa3e9301-ffa7-43b4-850a-ef973d810ec1",
   "metadata": {},
   "source": [
    "* format() 메서드"
   ]
  },
  {
   "cell_type": "code",
   "execution_count": 15,
   "id": "a6dadbb6-730a-4270-8063-f7c727fef3fa",
   "metadata": {},
   "outputs": [
    {
     "name": "stdout",
     "output_type": "stream",
     "text": [
      "My name is Alice. I am 25 years old.\n"
     ]
    }
   ],
   "source": [
    "name = \"Alice\"\n",
    "age = 25\n",
    "sentence = \"My name is {}. I am {} years old.\".format(name, age)\n",
    "print(sentence)"
   ]
  },
  {
   "cell_type": "code",
   "execution_count": 16,
   "id": "5bdcf737-46e4-4e50-87ce-8a1362a5b507",
   "metadata": {},
   "outputs": [
    {
     "name": "stdout",
     "output_type": "stream",
     "text": [
      "I am 25 years old. My name is Alice.\n"
     ]
    }
   ],
   "source": [
    "# 위치 지정 혹은 키워드를 통해 원하는 순서로 대입 가능\n",
    "sentence2 = \"I am {1} years old. My name is {0}.\".format(name, age)\n",
    "print(sentence2)"
   ]
  },
  {
   "cell_type": "markdown",
   "id": "1ccdb8c0-7dd1-49da-916b-b639978d2b9c",
   "metadata": {},
   "source": [
    "* f-string (파이썬 3.6+)"
   ]
  },
  {
   "cell_type": "code",
   "execution_count": 17,
   "id": "db531ebe-eb00-4ae0-a098-3e26291ed5cc",
   "metadata": {},
   "outputs": [
    {
     "name": "stdout",
     "output_type": "stream",
     "text": [
      "My name is Alice. I am 25 years old.\n"
     ]
    }
   ],
   "source": [
    "name = \"Alice\"\n",
    "age = 25\n",
    "sentence = f\"My name is {name}. I am {age} years old.\"\n",
    "print(sentence)"
   ]
  },
  {
   "cell_type": "code",
   "execution_count": 18,
   "id": "c1a49ed4-bf57-4945-aa14-de931e2c226d",
   "metadata": {},
   "outputs": [
    {
     "name": "stdout",
     "output_type": "stream",
     "text": [
      "1 + 2 = 3\n"
     ]
    }
   ],
   "source": [
    "print(f\"1 + 2 = {1 + 2}\")"
   ]
  },
  {
   "cell_type": "markdown",
   "id": "da15225f-13a5-46b4-8f9f-453de7a59e87",
   "metadata": {},
   "source": [
    "## is..() 함수\n",
    "* isupper()"
   ]
  },
  {
   "cell_type": "code",
   "execution_count": 2,
   "id": "e2ebc853-88f5-4105-817a-bd18fec1af40",
   "metadata": {},
   "outputs": [
    {
     "name": "stdout",
     "output_type": "stream",
     "text": [
      "True\n",
      "False\n",
      "False\n"
     ]
    }
   ],
   "source": [
    "# 문자열이 모두 대문자로만 이루어져 있는지 확인합니다.\n",
    "# 공백, 숫자, 특수문자는 검사 대상에서 제외됩니다.\n",
    "# 문자열에 최소한 하나의 문자가 있어야 True를 반환합니다.\n",
    "\n",
    "print(\"HELLO\".isupper())  # True\n",
    "print(\"Hello\".isupper())  # False\n",
    "print(\"123!\".isupper())   # False (문자가 없음)"
   ]
  },
  {
   "cell_type": "markdown",
   "id": "568410b8-1cbb-46b5-8769-ebb22243cac9",
   "metadata": {},
   "source": [
    "* islower()"
   ]
  },
  {
   "cell_type": "code",
   "execution_count": 4,
   "id": "6eb83297-91ce-4975-af9a-400e865f8f51",
   "metadata": {},
   "outputs": [
    {
     "name": "stdout",
     "output_type": "stream",
     "text": [
      "True\n",
      "False\n",
      "False\n"
     ]
    }
   ],
   "source": [
    "# 문자열이 모두 소문자로만 이루어져 있는지 확인합니다.\n",
    "# 공백, 숫자, 특수문자는 검사 대상에서 제외됩니다.\n",
    "# 문자열에 최소한 하나의 문자가 있어야 True를 반환합니다.\n",
    "\n",
    "print(\"hello\".islower())  # True\n",
    "print(\"Hello\".islower())  # False\n",
    "print(\"\".islower())   # False (문자가 없음)"
   ]
  },
  {
   "cell_type": "markdown",
   "id": "cf6a6138-68d3-44c8-8fa6-a07263551361",
   "metadata": {},
   "source": [
    "* isalpha()"
   ]
  },
  {
   "cell_type": "code",
   "execution_count": null,
   "id": "7bfe6b4c-a176-4700-a30f-34a0fba076b0",
   "metadata": {},
   "outputs": [],
   "source": [
    "# 문자열이 알파벳 문자만 포함하고 있는지 확인합니다.\n",
    "# 공백, 숫자, 특수문자가 포함되어 있으면 False를 반환합니다.\n",
    "# 빈 문자열은 False입니다."
   ]
  },
  {
   "cell_type": "code",
   "execution_count": 1,
   "id": "9cb313b3-bd9a-4770-a375-55eb89789a09",
   "metadata": {},
   "outputs": [
    {
     "name": "stdout",
     "output_type": "stream",
     "text": [
      "True\n",
      "False\n",
      "False\n",
      "True\n"
     ]
    }
   ],
   "source": [
    "print(\"Hello\".isalpha())  # True\n",
    "print(\"Hello123\".isalpha())  # False\n",
    "print(\" \".isalpha())  # False\n",
    "print(\"안녕\".isalpha())  # True"
   ]
  },
  {
   "cell_type": "markdown",
   "id": "bb8d2314-4681-49cd-9cb6-8e5fa55c717d",
   "metadata": {},
   "source": [
    "* isdigit()"
   ]
  },
  {
   "cell_type": "code",
   "execution_count": 6,
   "id": "33f292d5-7091-4f45-9df1-a4a0ecb17e14",
   "metadata": {},
   "outputs": [
    {
     "name": "stdout",
     "output_type": "stream",
     "text": [
      "True\n",
      "False\n",
      "False\n"
     ]
    }
   ],
   "source": [
    "# 문자열이 숫자(0-9)로만 구성되어 있는지 확인합니다.\n",
    "# 공백, 알파벳, 특수문자가 포함되어 있으면 False를 반환합니다.\n",
    "# 빈 문자열은 False입니다.\n",
    "\n",
    "print(\"123\".isdigit())  # True\n",
    "print(\"123abc\".isdigit())  # False\n",
    "print(\"\".isdigit())  # False"
   ]
  },
  {
   "cell_type": "markdown",
   "id": "63c7c09a-0ddb-463a-b6e0-529f74adb7b6",
   "metadata": {},
   "source": [
    "* isalnum()"
   ]
  },
  {
   "cell_type": "code",
   "execution_count": 3,
   "id": "2c293b86-ab49-4335-84c7-9fe3a8329bce",
   "metadata": {},
   "outputs": [
    {
     "name": "stdout",
     "output_type": "stream",
     "text": [
      "True\n",
      "False\n",
      "False\n"
     ]
    }
   ],
   "source": [
    "# 문자열이 알파벳 또는 숫자로만 구성되어 있는지 확인합니다.\n",
    "# 공백, 특수문자가 포함되어 있으면 False를 반환합니다.\n",
    "# 빈 문자열은 False입니다.\n",
    "\n",
    "print(\"Hello123\".isalnum())  # True\n",
    "print(\"Hello 123\".isalnum())  # False (공백 포함)\n",
    "print(\"\".isalnum())  # False"
   ]
  },
  {
   "cell_type": "markdown",
   "id": "757992d6-46dd-4ed6-b322-99efbf293017",
   "metadata": {},
   "source": [
    "* isspace()"
   ]
  },
  {
   "cell_type": "code",
   "execution_count": 8,
   "id": "4cb49a8a-a1cb-44db-b654-53b201f1cffa",
   "metadata": {},
   "outputs": [
    {
     "name": "stdout",
     "output_type": "stream",
     "text": [
      "True\n",
      "False\n",
      "False\n"
     ]
    }
   ],
   "source": [
    "# 문자열이 공백 문자(스페이스, 탭, 개행 등)만 포함되어 있는지 확인합니다.\n",
    "# 빈 문자열은 False입니다.\n",
    "\n",
    "print(\"   \".isspace())  # True\n",
    "print(\"Hello\".isspace())  # False\n",
    "print(\"\".isspace())  # False"
   ]
  },
  {
   "cell_type": "markdown",
   "id": "3ba51f81-b6d6-4110-8652-50c51568c9b6",
   "metadata": {},
   "source": [
    "## 연습문제\n",
    "1. 문자열 text = \"Python\"에서 첫 번째 문자 ```P``` 와 마지막 문자 ```n``` 를 인덱싱을 통해 출력해보세요."
   ]
  },
  {
   "cell_type": "code",
   "execution_count": 1,
   "id": "d43f7279-a723-4f48-abe8-b3515a78faa9",
   "metadata": {},
   "outputs": [
    {
     "name": "stdout",
     "output_type": "stream",
     "text": [
      "P\n",
      "n\n"
     ]
    }
   ],
   "source": [
    "text = \"Python\"\n",
    "print(text[0])\n",
    "print(text[-1])"
   ]
  },
  {
   "cell_type": "markdown",
   "id": "e584f773-56ad-4a37-8d87-48818f3a84fe",
   "metadata": {},
   "source": [
    "2. 문자열 text = \"Hello World!\"을 슬라이싱하여 \"\"Hello\" 부분만 추출해서 출력해보세요."
   ]
  },
  {
   "cell_type": "code",
   "execution_count": 3,
   "id": "5ad32674-ba04-44ae-897b-466869b1ac2f",
   "metadata": {},
   "outputs": [
    {
     "name": "stdout",
     "output_type": "stream",
     "text": [
      "Hello\n"
     ]
    }
   ],
   "source": [
    "text = \"Hello World!\"\n",
    "print(text[:5])"
   ]
  },
  {
   "cell_type": "markdown",
   "id": "e6ad5021-1f77-4887-93bb-0aa1f6eecf20",
   "metadata": {},
   "source": [
    "3. 문자열 a = \"abc\"와 b = \"def\"를 더하기 연산(+)을 이용해 \"abcdef\" 를 만들어 출력해보세요."
   ]
  },
  {
   "cell_type": "code",
   "execution_count": 4,
   "id": "b98032f4-f0b1-4377-9fbd-0a7014d4bcda",
   "metadata": {},
   "outputs": [
    {
     "name": "stdout",
     "output_type": "stream",
     "text": [
      "abcdef\n"
     ]
    }
   ],
   "source": [
    "a = \"abc\"\n",
    "b = \"def\"\n",
    "print(a+b)"
   ]
  },
  {
   "cell_type": "markdown",
   "id": "a35b79c6-023b-4634-a55f-9580432fa4f2",
   "metadata": {},
   "source": [
    "4. 문자열 a = \"Hello\"를 3번 반복하여 \"HelloHelloHello\" 를 만들어 출력해보세요."
   ]
  },
  {
   "cell_type": "code",
   "execution_count": 5,
   "id": "4a3c5329-169f-4449-a6d8-4b46986c1853",
   "metadata": {},
   "outputs": [
    {
     "name": "stdout",
     "output_type": "stream",
     "text": [
      "HelloHelloHello\n"
     ]
    }
   ],
   "source": [
    "a = \"Hello\"\n",
    "print(a*3)"
   ]
  },
  {
   "cell_type": "markdown",
   "id": "1a8c2e49-4be5-4a70-9799-08576ccd2776",
   "metadata": {},
   "source": [
    "5. 문자열 fruits = \"apple,banana,orange\"를 ```,``` 로 분리(split())하여 리스트 형태로 출력해보세요."
   ]
  },
  {
   "cell_type": "code",
   "execution_count": 6,
   "id": "002abd0c-ee07-45a3-b7d3-1e0b92b0afae",
   "metadata": {},
   "outputs": [
    {
     "data": {
      "text/plain": [
       "['apple', 'banana', 'orange']"
      ]
     },
     "execution_count": 6,
     "metadata": {},
     "output_type": "execute_result"
    }
   ],
   "source": [
    "fruits = \"apple,banana,orange\"\n",
    "fruits.split(\",\")"
   ]
  },
  {
   "cell_type": "markdown",
   "id": "f9d9502f-b13b-45d7-b7be-c45e1aafd801",
   "metadata": {},
   "source": [
    "6. 문자열 s = \" Hello Python! \"에서 양쪽 공백을 제거(strip())하고, 제거된 문자열의 길이를 출력해보세요."
   ]
  },
  {
   "cell_type": "code",
   "execution_count": 9,
   "id": "6329a1d1-425f-4cd6-ac18-70af8b8201f3",
   "metadata": {},
   "outputs": [
    {
     "data": {
      "text/plain": [
       "13"
      ]
     },
     "execution_count": 9,
     "metadata": {},
     "output_type": "execute_result"
    }
   ],
   "source": [
    "s = \" Hello Python! \"\n",
    "s.strip()\n",
    "len(s.strip())"
   ]
  },
  {
   "cell_type": "markdown",
   "id": "751810ae-cc67-4ad2-a850-b9d6ddf01425",
   "metadata": {},
   "source": [
    "7. 문자열 s = \"Hello World\"에서 \"World\"를 \"Python\"으로 치환(replace())하여 \"Hello Python\"을 만들어 출력해보세요."
   ]
  },
  {
   "cell_type": "code",
   "execution_count": 11,
   "id": "739ab3b2-f12d-48f0-9b1c-5328296fdbdf",
   "metadata": {},
   "outputs": [
    {
     "name": "stdout",
     "output_type": "stream",
     "text": [
      "Hello Python\n"
     ]
    }
   ],
   "source": [
    "s = \"Hello World\"\n",
    "s = s.replace(\"World\",\"Python\")\n",
    "print(s)"
   ]
  },
  {
   "cell_type": "markdown",
   "id": "9a501bb1-90df-4a87-a60d-c29852b03203",
   "metadata": {},
   "source": [
    "8. 문자열 quote = \"Life is short, You need Python.\"에서 count() 함수를 사용하여 ```i``` 문자가 몇 번 등장하는지 세어보세요."
   ]
  },
  {
   "cell_type": "code",
   "execution_count": 3,
   "id": "30d52fbe-dd09-4070-bb08-fab9a2fbbc6f",
   "metadata": {},
   "outputs": [
    {
     "data": {
      "text/plain": [
       "10"
      ]
     },
     "execution_count": 3,
     "metadata": {},
     "output_type": "execute_result"
    }
   ],
   "source": [
    "quote = \"Life is short, You need Python.\"\n",
    "quote.count(\"i\")\n",
    "quote.find(\"o\") #어디에 o가 있는지(가장 먼저 발견한 것 하나만) #없을 시 -1\n",
    "quote.index(\"o\") #없을 시 오류 "
   ]
  },
  {
   "cell_type": "markdown",
   "id": "f61015af-e99f-4da9-9805-84fac20ad76f",
   "metadata": {},
   "source": [
    "9. \"My name is Alice and I am 25 years old.\" 라는 문장에서 split()을 이용해 단어별로 나눈 리스트를 생성한 후, \" \".join(...)으로 다시 문자열로 합쳐서 출력해보세요."
   ]
  },
  {
   "cell_type": "code",
   "execution_count": 16,
   "id": "98e92a32-4e50-4e57-849a-3eabbe8374e4",
   "metadata": {},
   "outputs": [
    {
     "name": "stdout",
     "output_type": "stream",
     "text": [
      "['My', 'name', 'is', 'Alice', 'and', 'I', 'am', '25', 'years', 'old.']\n"
     ]
    },
    {
     "data": {
      "text/plain": [
       "'My name is Alice and I am 25 years old.'"
      ]
     },
     "execution_count": 16,
     "metadata": {},
     "output_type": "execute_result"
    }
   ],
   "source": [
    "a = \"My name is Alice and I am 25 years old.\"\n",
    "a = a.split()\n",
    "print(a)\n",
    "\" \".join(a)"
   ]
  },
  {
   "cell_type": "markdown",
   "id": "9ec04105-05e2-4c98-9296-0e610b8d64bb",
   "metadata": {},
   "source": [
    "10. 문자열 포매팅(f-string)을 이용해, name=\"Bob\"과 age=30을 가진 문장 \"My name is Bob, and I'm 30.\"을 만들어 출력해보세요."
   ]
  },
  {
   "cell_type": "code",
   "execution_count": 5,
   "id": "210db260-a4ea-4168-8b09-e8795448ade4",
   "metadata": {},
   "outputs": [
    {
     "data": {
      "text/plain": [
       "\"My name is Bob, and I'm 30.\""
      ]
     },
     "execution_count": 5,
     "metadata": {},
     "output_type": "execute_result"
    }
   ],
   "source": [
    "name=\"Bob\"\n",
    "age=30\n",
    "\n",
    "f\"My name is {name}, and I'm {age}.\"\n",
    "\"My name is {}, and I'm {}.\".format(name,age)"
   ]
  },
  {
   "cell_type": "markdown",
   "id": "46b63ce2-7c22-40ae-86f3-b7af6772927b",
   "metadata": {},
   "source": [
    "11. 임의의 문자열을 임의의 변수에 할당하고, 이를 슬라이싱을 이용해 뒤집어 출력하는 코드를 작성해보세요."
   ]
  },
  {
   "cell_type": "code",
   "execution_count": 18,
   "id": "db3b78d2-26ea-423e-9704-a6686a169074",
   "metadata": {},
   "outputs": [
    {
     "data": {
      "text/plain": [
       "'dlrow olleh'"
      ]
     },
     "execution_count": 18,
     "metadata": {},
     "output_type": "execute_result"
    }
   ],
   "source": [
    "a = \"hello world\"\n",
    "a[::-1]"
   ]
  },
  {
   "cell_type": "markdown",
   "id": "2fc86163-97ff-45c0-9c4c-c0f0c92c9b3b",
   "metadata": {},
   "source": [
    "12. 문자열 \"pYtHoN iS fUn\"의 대문자는 소문자로, 소문자는 대문자로 바꿔 \"PyThOn Is FuN\" 형태로 출력해보세요."
   ]
  },
  {
   "cell_type": "code",
   "execution_count": 21,
   "id": "ddfb2d5b-3abc-4985-bf0a-3dad6109359f",
   "metadata": {},
   "outputs": [
    {
     "name": "stdout",
     "output_type": "stream",
     "text": [
      "PyThOn Is FuN\n"
     ]
    }
   ],
   "source": [
    "a=\"pYtHoN iS fUn\"\n",
    "print(a.swapcase())"
   ]
  },
  {
   "cell_type": "markdown",
   "id": "3ba9c069-534a-4eac-910d-579d17fd39fe",
   "metadata": {},
   "source": [
    "13. f-string에서 수식을 직접 넣을 수 있다는 점을 활용해, 두 숫자와 연산자를 입력받아 연산 결과를 한 줄로 출력하는 코드를 작성해보세요.  \n",
    "예) num1=3, op=\"+\", num2=5 → \"3 + 5 = 8\""
   ]
  },
  {
   "cell_type": "code",
   "execution_count": 23,
   "id": "02908dd4-abc6-49b9-9a1f-a20fa5934b2d",
   "metadata": {},
   "outputs": [
    {
     "data": {
      "text/plain": [
       "'3 + 5 = 8'"
      ]
     },
     "execution_count": 23,
     "metadata": {},
     "output_type": "execute_result"
    }
   ],
   "source": [
    "num1=3\n",
    "op=\"+\"\n",
    "num2=5\n",
    "f\"{num1} {op} {num2} = {num1+num2}\""
   ]
  }
 ],
 "metadata": {
  "kernelspec": {
   "display_name": "Python 3 (ipykernel)",
   "language": "python",
   "name": "python3"
  },
  "language_info": {
   "codemirror_mode": {
    "name": "ipython",
    "version": 3
   },
   "file_extension": ".py",
   "mimetype": "text/x-python",
   "name": "python",
   "nbconvert_exporter": "python",
   "pygments_lexer": "ipython3",
   "version": "3.12.7"
  }
 },
 "nbformat": 4,
 "nbformat_minor": 5
}
